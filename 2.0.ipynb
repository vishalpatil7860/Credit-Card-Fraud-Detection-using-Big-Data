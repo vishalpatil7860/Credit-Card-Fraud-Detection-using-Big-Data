{
 "cells": [
  {
   "cell_type": "markdown",
   "id": "31e5fa62",
   "metadata": {},
   "source": [
    "# Importing the Libraries"
   ]
  },
  {
   "cell_type": "code",
   "execution_count": 1,
   "id": "7c3f7a57",
   "metadata": {},
   "outputs": [],
   "source": [
    "import pandas as pd\n",
    "import numpy as np\n",
    "import matplotlib.pyplot as plt\n",
    "import seaborn as sns\n",
    "from sklearn.model_selection import train_test_split\n",
    "from sklearn.tree import DecisionTreeClassifier\n",
    "from sklearn.ensemble import RandomForestClassifier\n",
    "from sklearn.model_selection import cross_val_score\n",
    "from sklearn.metrics import confusion_matrix, classification_report\n",
    "from sklearn.ensemble import GradientBoostingClassifier\n",
    "from sklearn.linear_model import LogisticRegression\n",
    "from sklearn.metrics import confusion_matrix\n",
    "from sklearn.metrics import classification_report\n",
    "from sklearn.metrics import roc_auc_score\n",
    "from sklearn.metrics import roc_curve\n",
    "from keras import Sequential\n",
    "from keras.layers import Dense, Dropout\n",
    "from sklearn.model_selection import train_test_split\n",
    "\n",
    "import warnings\n",
    "warnings.filterwarnings(action='once')\n"
   ]
  },
  {
   "cell_type": "markdown",
   "id": "5ec3c02a",
   "metadata": {},
   "source": [
    "# Reading the Dataset"
   ]
  },
  {
   "cell_type": "code",
   "execution_count": 2,
   "id": "24385052",
   "metadata": {},
   "outputs": [
    {
     "data": {
      "text/html": [
       "<div>\n",
       "<style scoped>\n",
       "    .dataframe tbody tr th:only-of-type {\n",
       "        vertical-align: middle;\n",
       "    }\n",
       "\n",
       "    .dataframe tbody tr th {\n",
       "        vertical-align: top;\n",
       "    }\n",
       "\n",
       "    .dataframe thead th {\n",
       "        text-align: right;\n",
       "    }\n",
       "</style>\n",
       "<table border=\"1\" class=\"dataframe\">\n",
       "  <thead>\n",
       "    <tr style=\"text-align: right;\">\n",
       "      <th></th>\n",
       "      <th>Unnamed: 0</th>\n",
       "      <th>Time</th>\n",
       "      <th>V1</th>\n",
       "      <th>V2</th>\n",
       "      <th>V3</th>\n",
       "      <th>V4</th>\n",
       "      <th>V5</th>\n",
       "      <th>V6</th>\n",
       "      <th>V7</th>\n",
       "      <th>V8</th>\n",
       "      <th>...</th>\n",
       "      <th>V21</th>\n",
       "      <th>V22</th>\n",
       "      <th>V23</th>\n",
       "      <th>V24</th>\n",
       "      <th>V25</th>\n",
       "      <th>V26</th>\n",
       "      <th>V27</th>\n",
       "      <th>V28</th>\n",
       "      <th>Amount</th>\n",
       "      <th>Class</th>\n",
       "    </tr>\n",
       "  </thead>\n",
       "  <tbody>\n",
       "    <tr>\n",
       "      <th>0</th>\n",
       "      <td>1</td>\n",
       "      <td>0.0</td>\n",
       "      <td>-1.359807</td>\n",
       "      <td>-0.072781</td>\n",
       "      <td>2.536347</td>\n",
       "      <td>1.378155</td>\n",
       "      <td>-0.338321</td>\n",
       "      <td>0.462388</td>\n",
       "      <td>0.239599</td>\n",
       "      <td>0.098698</td>\n",
       "      <td>...</td>\n",
       "      <td>-0.018307</td>\n",
       "      <td>0.277838</td>\n",
       "      <td>-0.110474</td>\n",
       "      <td>0.066928</td>\n",
       "      <td>0.128539</td>\n",
       "      <td>-0.189115</td>\n",
       "      <td>0.133558</td>\n",
       "      <td>-0.021053</td>\n",
       "      <td>149.62</td>\n",
       "      <td>0</td>\n",
       "    </tr>\n",
       "    <tr>\n",
       "      <th>1</th>\n",
       "      <td>2</td>\n",
       "      <td>0.0</td>\n",
       "      <td>1.191857</td>\n",
       "      <td>0.266151</td>\n",
       "      <td>0.166480</td>\n",
       "      <td>0.448154</td>\n",
       "      <td>0.060018</td>\n",
       "      <td>-0.082361</td>\n",
       "      <td>-0.078803</td>\n",
       "      <td>0.085102</td>\n",
       "      <td>...</td>\n",
       "      <td>-0.225775</td>\n",
       "      <td>-0.638672</td>\n",
       "      <td>0.101288</td>\n",
       "      <td>-0.339846</td>\n",
       "      <td>0.167170</td>\n",
       "      <td>0.125895</td>\n",
       "      <td>-0.008983</td>\n",
       "      <td>0.014724</td>\n",
       "      <td>2.69</td>\n",
       "      <td>0</td>\n",
       "    </tr>\n",
       "    <tr>\n",
       "      <th>2</th>\n",
       "      <td>3</td>\n",
       "      <td>1.0</td>\n",
       "      <td>-1.358354</td>\n",
       "      <td>-1.340163</td>\n",
       "      <td>1.773209</td>\n",
       "      <td>0.379780</td>\n",
       "      <td>-0.503198</td>\n",
       "      <td>1.800499</td>\n",
       "      <td>0.791461</td>\n",
       "      <td>0.247676</td>\n",
       "      <td>...</td>\n",
       "      <td>0.247998</td>\n",
       "      <td>0.771679</td>\n",
       "      <td>0.909412</td>\n",
       "      <td>-0.689281</td>\n",
       "      <td>-0.327642</td>\n",
       "      <td>-0.139097</td>\n",
       "      <td>-0.055353</td>\n",
       "      <td>-0.059752</td>\n",
       "      <td>378.66</td>\n",
       "      <td>0</td>\n",
       "    </tr>\n",
       "    <tr>\n",
       "      <th>3</th>\n",
       "      <td>4</td>\n",
       "      <td>1.0</td>\n",
       "      <td>-0.966272</td>\n",
       "      <td>-0.185226</td>\n",
       "      <td>1.792993</td>\n",
       "      <td>-0.863291</td>\n",
       "      <td>-0.010309</td>\n",
       "      <td>1.247203</td>\n",
       "      <td>0.237609</td>\n",
       "      <td>0.377436</td>\n",
       "      <td>...</td>\n",
       "      <td>-0.108300</td>\n",
       "      <td>0.005274</td>\n",
       "      <td>-0.190321</td>\n",
       "      <td>-1.175575</td>\n",
       "      <td>0.647376</td>\n",
       "      <td>-0.221929</td>\n",
       "      <td>0.062723</td>\n",
       "      <td>0.061458</td>\n",
       "      <td>123.50</td>\n",
       "      <td>0</td>\n",
       "    </tr>\n",
       "    <tr>\n",
       "      <th>4</th>\n",
       "      <td>5</td>\n",
       "      <td>2.0</td>\n",
       "      <td>-1.158233</td>\n",
       "      <td>0.877737</td>\n",
       "      <td>1.548718</td>\n",
       "      <td>0.403034</td>\n",
       "      <td>-0.407193</td>\n",
       "      <td>0.095921</td>\n",
       "      <td>0.592941</td>\n",
       "      <td>-0.270533</td>\n",
       "      <td>...</td>\n",
       "      <td>-0.009431</td>\n",
       "      <td>0.798278</td>\n",
       "      <td>-0.137458</td>\n",
       "      <td>0.141267</td>\n",
       "      <td>-0.206010</td>\n",
       "      <td>0.502292</td>\n",
       "      <td>0.219422</td>\n",
       "      <td>0.215153</td>\n",
       "      <td>69.99</td>\n",
       "      <td>0</td>\n",
       "    </tr>\n",
       "  </tbody>\n",
       "</table>\n",
       "<p>5 rows × 32 columns</p>\n",
       "</div>"
      ],
      "text/plain": [
       "   Unnamed: 0  Time        V1        V2        V3        V4        V5  \\\n",
       "0           1   0.0 -1.359807 -0.072781  2.536347  1.378155 -0.338321   \n",
       "1           2   0.0  1.191857  0.266151  0.166480  0.448154  0.060018   \n",
       "2           3   1.0 -1.358354 -1.340163  1.773209  0.379780 -0.503198   \n",
       "3           4   1.0 -0.966272 -0.185226  1.792993 -0.863291 -0.010309   \n",
       "4           5   2.0 -1.158233  0.877737  1.548718  0.403034 -0.407193   \n",
       "\n",
       "         V6        V7        V8  ...       V21       V22       V23       V24  \\\n",
       "0  0.462388  0.239599  0.098698  ... -0.018307  0.277838 -0.110474  0.066928   \n",
       "1 -0.082361 -0.078803  0.085102  ... -0.225775 -0.638672  0.101288 -0.339846   \n",
       "2  1.800499  0.791461  0.247676  ...  0.247998  0.771679  0.909412 -0.689281   \n",
       "3  1.247203  0.237609  0.377436  ... -0.108300  0.005274 -0.190321 -1.175575   \n",
       "4  0.095921  0.592941 -0.270533  ... -0.009431  0.798278 -0.137458  0.141267   \n",
       "\n",
       "        V25       V26       V27       V28  Amount  Class  \n",
       "0  0.128539 -0.189115  0.133558 -0.021053  149.62      0  \n",
       "1  0.167170  0.125895 -0.008983  0.014724    2.69      0  \n",
       "2 -0.327642 -0.139097 -0.055353 -0.059752  378.66      0  \n",
       "3  0.647376 -0.221929  0.062723  0.061458  123.50      0  \n",
       "4 -0.206010  0.502292  0.219422  0.215153   69.99      0  \n",
       "\n",
       "[5 rows x 32 columns]"
      ]
     },
     "execution_count": 2,
     "metadata": {},
     "output_type": "execute_result"
    }
   ],
   "source": [
    "#Loading the dataset\n",
    "df = pd.read_csv('https://query.data.world/s/pmwy5jqyutp5kv5ovzdoclfgvm6n2o')\n",
    "df.head()"
   ]
  },
  {
   "cell_type": "code",
   "execution_count": 3,
   "id": "b71c98f1",
   "metadata": {},
   "outputs": [
    {
     "data": {
      "text/plain": [
       "(284807, 32)"
      ]
     },
     "execution_count": 3,
     "metadata": {},
     "output_type": "execute_result"
    }
   ],
   "source": [
    "df.shape"
   ]
  },
  {
   "cell_type": "markdown",
   "id": "d8d73bd8",
   "metadata": {},
   "source": [
    "# Cleaning the Dataset"
   ]
  },
  {
   "cell_type": "code",
   "execution_count": 4,
   "id": "08db2428",
   "metadata": {},
   "outputs": [
    {
     "data": {
      "text/html": [
       "<div>\n",
       "<style scoped>\n",
       "    .dataframe tbody tr th:only-of-type {\n",
       "        vertical-align: middle;\n",
       "    }\n",
       "\n",
       "    .dataframe tbody tr th {\n",
       "        vertical-align: top;\n",
       "    }\n",
       "\n",
       "    .dataframe thead th {\n",
       "        text-align: right;\n",
       "    }\n",
       "</style>\n",
       "<table border=\"1\" class=\"dataframe\">\n",
       "  <thead>\n",
       "    <tr style=\"text-align: right;\">\n",
       "      <th></th>\n",
       "      <th>Time</th>\n",
       "      <th>V1</th>\n",
       "      <th>V2</th>\n",
       "      <th>V3</th>\n",
       "      <th>V4</th>\n",
       "      <th>V5</th>\n",
       "      <th>V6</th>\n",
       "      <th>V7</th>\n",
       "      <th>V8</th>\n",
       "      <th>V9</th>\n",
       "      <th>...</th>\n",
       "      <th>V21</th>\n",
       "      <th>V22</th>\n",
       "      <th>V23</th>\n",
       "      <th>V24</th>\n",
       "      <th>V25</th>\n",
       "      <th>V26</th>\n",
       "      <th>V27</th>\n",
       "      <th>V28</th>\n",
       "      <th>Amount</th>\n",
       "      <th>Class</th>\n",
       "    </tr>\n",
       "  </thead>\n",
       "  <tbody>\n",
       "    <tr>\n",
       "      <th>0</th>\n",
       "      <td>0.0</td>\n",
       "      <td>-1.359807</td>\n",
       "      <td>-0.072781</td>\n",
       "      <td>2.536347</td>\n",
       "      <td>1.378155</td>\n",
       "      <td>-0.338321</td>\n",
       "      <td>0.462388</td>\n",
       "      <td>0.239599</td>\n",
       "      <td>0.098698</td>\n",
       "      <td>0.363787</td>\n",
       "      <td>...</td>\n",
       "      <td>-0.018307</td>\n",
       "      <td>0.277838</td>\n",
       "      <td>-0.110474</td>\n",
       "      <td>0.066928</td>\n",
       "      <td>0.128539</td>\n",
       "      <td>-0.189115</td>\n",
       "      <td>0.133558</td>\n",
       "      <td>-0.021053</td>\n",
       "      <td>149.62</td>\n",
       "      <td>0</td>\n",
       "    </tr>\n",
       "    <tr>\n",
       "      <th>1</th>\n",
       "      <td>0.0</td>\n",
       "      <td>1.191857</td>\n",
       "      <td>0.266151</td>\n",
       "      <td>0.166480</td>\n",
       "      <td>0.448154</td>\n",
       "      <td>0.060018</td>\n",
       "      <td>-0.082361</td>\n",
       "      <td>-0.078803</td>\n",
       "      <td>0.085102</td>\n",
       "      <td>-0.255425</td>\n",
       "      <td>...</td>\n",
       "      <td>-0.225775</td>\n",
       "      <td>-0.638672</td>\n",
       "      <td>0.101288</td>\n",
       "      <td>-0.339846</td>\n",
       "      <td>0.167170</td>\n",
       "      <td>0.125895</td>\n",
       "      <td>-0.008983</td>\n",
       "      <td>0.014724</td>\n",
       "      <td>2.69</td>\n",
       "      <td>0</td>\n",
       "    </tr>\n",
       "    <tr>\n",
       "      <th>2</th>\n",
       "      <td>1.0</td>\n",
       "      <td>-1.358354</td>\n",
       "      <td>-1.340163</td>\n",
       "      <td>1.773209</td>\n",
       "      <td>0.379780</td>\n",
       "      <td>-0.503198</td>\n",
       "      <td>1.800499</td>\n",
       "      <td>0.791461</td>\n",
       "      <td>0.247676</td>\n",
       "      <td>-1.514654</td>\n",
       "      <td>...</td>\n",
       "      <td>0.247998</td>\n",
       "      <td>0.771679</td>\n",
       "      <td>0.909412</td>\n",
       "      <td>-0.689281</td>\n",
       "      <td>-0.327642</td>\n",
       "      <td>-0.139097</td>\n",
       "      <td>-0.055353</td>\n",
       "      <td>-0.059752</td>\n",
       "      <td>378.66</td>\n",
       "      <td>0</td>\n",
       "    </tr>\n",
       "    <tr>\n",
       "      <th>3</th>\n",
       "      <td>1.0</td>\n",
       "      <td>-0.966272</td>\n",
       "      <td>-0.185226</td>\n",
       "      <td>1.792993</td>\n",
       "      <td>-0.863291</td>\n",
       "      <td>-0.010309</td>\n",
       "      <td>1.247203</td>\n",
       "      <td>0.237609</td>\n",
       "      <td>0.377436</td>\n",
       "      <td>-1.387024</td>\n",
       "      <td>...</td>\n",
       "      <td>-0.108300</td>\n",
       "      <td>0.005274</td>\n",
       "      <td>-0.190321</td>\n",
       "      <td>-1.175575</td>\n",
       "      <td>0.647376</td>\n",
       "      <td>-0.221929</td>\n",
       "      <td>0.062723</td>\n",
       "      <td>0.061458</td>\n",
       "      <td>123.50</td>\n",
       "      <td>0</td>\n",
       "    </tr>\n",
       "    <tr>\n",
       "      <th>4</th>\n",
       "      <td>2.0</td>\n",
       "      <td>-1.158233</td>\n",
       "      <td>0.877737</td>\n",
       "      <td>1.548718</td>\n",
       "      <td>0.403034</td>\n",
       "      <td>-0.407193</td>\n",
       "      <td>0.095921</td>\n",
       "      <td>0.592941</td>\n",
       "      <td>-0.270533</td>\n",
       "      <td>0.817739</td>\n",
       "      <td>...</td>\n",
       "      <td>-0.009431</td>\n",
       "      <td>0.798278</td>\n",
       "      <td>-0.137458</td>\n",
       "      <td>0.141267</td>\n",
       "      <td>-0.206010</td>\n",
       "      <td>0.502292</td>\n",
       "      <td>0.219422</td>\n",
       "      <td>0.215153</td>\n",
       "      <td>69.99</td>\n",
       "      <td>0</td>\n",
       "    </tr>\n",
       "  </tbody>\n",
       "</table>\n",
       "<p>5 rows × 31 columns</p>\n",
       "</div>"
      ],
      "text/plain": [
       "   Time        V1        V2        V3        V4        V5        V6        V7  \\\n",
       "0   0.0 -1.359807 -0.072781  2.536347  1.378155 -0.338321  0.462388  0.239599   \n",
       "1   0.0  1.191857  0.266151  0.166480  0.448154  0.060018 -0.082361 -0.078803   \n",
       "2   1.0 -1.358354 -1.340163  1.773209  0.379780 -0.503198  1.800499  0.791461   \n",
       "3   1.0 -0.966272 -0.185226  1.792993 -0.863291 -0.010309  1.247203  0.237609   \n",
       "4   2.0 -1.158233  0.877737  1.548718  0.403034 -0.407193  0.095921  0.592941   \n",
       "\n",
       "         V8        V9  ...       V21       V22       V23       V24       V25  \\\n",
       "0  0.098698  0.363787  ... -0.018307  0.277838 -0.110474  0.066928  0.128539   \n",
       "1  0.085102 -0.255425  ... -0.225775 -0.638672  0.101288 -0.339846  0.167170   \n",
       "2  0.247676 -1.514654  ...  0.247998  0.771679  0.909412 -0.689281 -0.327642   \n",
       "3  0.377436 -1.387024  ... -0.108300  0.005274 -0.190321 -1.175575  0.647376   \n",
       "4 -0.270533  0.817739  ... -0.009431  0.798278 -0.137458  0.141267 -0.206010   \n",
       "\n",
       "        V26       V27       V28  Amount  Class  \n",
       "0 -0.189115  0.133558 -0.021053  149.62      0  \n",
       "1  0.125895 -0.008983  0.014724    2.69      0  \n",
       "2 -0.139097 -0.055353 -0.059752  378.66      0  \n",
       "3 -0.221929  0.062723  0.061458  123.50      0  \n",
       "4  0.502292  0.219422  0.215153   69.99      0  \n",
       "\n",
       "[5 rows x 31 columns]"
      ]
     },
     "execution_count": 4,
     "metadata": {},
     "output_type": "execute_result"
    }
   ],
   "source": [
    "df.drop(['Unnamed: 0'], axis=1, inplace=True)\n",
    "df.head()"
   ]
  },
  {
   "cell_type": "markdown",
   "id": "3f0427af",
   "metadata": {},
   "source": [
    "# Exploratory Data Analysis"
   ]
  },
  {
   "cell_type": "code",
   "execution_count": 49,
   "id": "29e67ad7",
   "metadata": {},
   "outputs": [
    {
     "name": "stdout",
     "output_type": "stream",
     "text": [
      "<class 'pandas.core.frame.DataFrame'>\n",
      "RangeIndex: 284807 entries, 0 to 284806\n",
      "Data columns (total 32 columns):\n",
      " #   Column      Non-Null Count   Dtype  \n",
      "---  ------      --------------   -----  \n",
      " 0   Unnamed: 0  284807 non-null  int64  \n",
      " 1   Time        284807 non-null  float64\n",
      " 2   V1          284807 non-null  float64\n",
      " 3   V2          284807 non-null  float64\n",
      " 4   V3          284807 non-null  float64\n",
      " 5   V4          284807 non-null  float64\n",
      " 6   V5          284807 non-null  float64\n",
      " 7   V6          284807 non-null  float64\n",
      " 8   V7          284807 non-null  float64\n",
      " 9   V8          284807 non-null  float64\n",
      " 10  V9          284807 non-null  float64\n",
      " 11  V10         284807 non-null  float64\n",
      " 12  V11         284807 non-null  float64\n",
      " 13  V12         284807 non-null  float64\n",
      " 14  V13         284807 non-null  float64\n",
      " 15  V14         284807 non-null  float64\n",
      " 16  V15         284807 non-null  float64\n",
      " 17  V16         284807 non-null  float64\n",
      " 18  V17         284807 non-null  float64\n",
      " 19  V18         284807 non-null  float64\n",
      " 20  V19         284807 non-null  float64\n",
      " 21  V20         284807 non-null  float64\n",
      " 22  V21         284807 non-null  float64\n",
      " 23  V22         284807 non-null  float64\n",
      " 24  V23         284807 non-null  float64\n",
      " 25  V24         284807 non-null  float64\n",
      " 26  V25         284807 non-null  float64\n",
      " 27  V26         284807 non-null  float64\n",
      " 28  V27         284807 non-null  float64\n",
      " 29  V28         284807 non-null  float64\n",
      " 30  Amount      284807 non-null  float64\n",
      " 31  Class       284807 non-null  int64  \n",
      "dtypes: float64(30), int64(2)\n",
      "memory usage: 69.5 MB\n"
     ]
    }
   ],
   "source": [
    "df.info()"
   ]
  },
  {
   "cell_type": "code",
   "execution_count": 5,
   "id": "9e4c46cd",
   "metadata": {},
   "outputs": [
    {
     "data": {
      "text/plain": [
       "Time   V1     V2     V3     V4     V5     V6     V7     V8     V9     V10    V11    V12    V13    V14    V15    V16    V17    V18    V19    V20    V21    V22    V23    V24    V25    V26    V27    V28    Amount  Class\n",
       "False  False  False  False  False  False  False  False  False  False  False  False  False  False  False  False  False  False  False  False  False  False  False  False  False  False  False  False  False  False   False    284807\n",
       "dtype: int64"
      ]
     },
     "execution_count": 5,
     "metadata": {},
     "output_type": "execute_result"
    }
   ],
   "source": [
    "df.isna().value_counts()"
   ]
  },
  {
   "cell_type": "code",
   "execution_count": 6,
   "id": "59a01a27",
   "metadata": {},
   "outputs": [
    {
     "data": {
      "text/plain": [
       "0    284315\n",
       "1       492\n",
       "Name: Class, dtype: int64"
      ]
     },
     "execution_count": 6,
     "metadata": {},
     "output_type": "execute_result"
    }
   ],
   "source": [
    "# Fraud vs Non Fraud Transactions\n",
    "df['Class'].value_counts()"
   ]
  },
  {
   "cell_type": "code",
   "execution_count": 7,
   "id": "7c98ba8b",
   "metadata": {},
   "outputs": [
    {
     "data": {
      "image/png": "[encoded data removed]",
      "text/plain": [
       "<Figure size 432x288 with 1 Axes>"
      ]
     },
     "metadata": {
      "needs_background": "light"
     },
     "output_type": "display_data"
    }
   ],
   "source": [
    "#Fraud vs Non-Fraudulent Transactions\n",
    "sns.countplot(x='Class',data=df)\n",
    "plt.title('Fraud vs Non-Fraud')\n",
    "plt.show()"
   ]
  },
  {
   "cell_type": "code",
   "execution_count": 8,
   "id": "c23660a8",
   "metadata": {},
   "outputs": [
    {
     "data": {
      "image/png": "[encoded data removed]",
      "text/plain": [
       "<Figure size 432x288 with 1 Axes>"
      ]
     },
     "metadata": {},
     "output_type": "display_data"
    }
   ],
   "source": [
    "df2 = pd.DataFrame(df['Class'].value_counts())\n",
    "\n",
    "#Calculate the total number of transactions\n",
    "total_transactions = df2['Class'].sum()\n",
    "\n",
    "#Calculate the percentage of fraudulent and non-fraudulent transactions\n",
    "fraudulent_percentage = (df2.loc[1, 'Class']/total_transactions)*100\n",
    "non_fraudulent_percentage = (df2.loc[0, 'Class']/total_transactions)*100\n",
    "\n",
    "#Create a list of labels\n",
    "labels = ['Fraudulent', 'Non-Fraudulent']\n",
    "\n",
    "#Create a list of values\n",
    "sizes = [fraudulent_percentage, non_fraudulent_percentage]\n",
    "\n",
    "#Create the pie chart\n",
    "fig1, ax1 = plt.subplots()\n",
    "ax1.pie(sizes, labels = labels, autopct='%1.1f%%', shadow = False, startangle = 45)\n",
    "plt.title('Fraudulent vs Non-Fraudulent Transactions')\n",
    "plt.show()"
   ]
  },
  {
   "cell_type": "markdown",
   "id": "8bcd1ca2",
   "metadata": {},
   "source": [
    "# Splitting Dataset"
   ]
  },
  {
   "cell_type": "code",
   "execution_count": 9,
   "id": "c87993f5",
   "metadata": {},
   "outputs": [],
   "source": [
    "#Training the Model\n",
    "#splitting the dataset\n",
    "X = df.iloc[:,:-1]\n",
    "y = df.iloc[:,-1]\n",
    "X_train, X_test, y_train, y_test = train_test_split(X,y,test_size=0.4,random_state=1)"
   ]
  },
  {
   "cell_type": "markdown",
   "id": "28e5998e",
   "metadata": {},
   "source": [
    "# Algorithms"
   ]
  },
  {
   "cell_type": "markdown",
   "id": "b0f12142",
   "metadata": {},
   "source": [
    "# Logistic Regression Model"
   ]
  },
  {
   "cell_type": "code",
   "execution_count": 10,
   "id": "fdf1cc8d",
   "metadata": {},
   "outputs": [
    {
     "data": {
      "image/png": "[encoded data removed]",
      "text/plain": [
       "<Figure size 1152x432 with 2 Axes>"
      ]
     },
     "metadata": {
      "needs_background": "light"
     },
     "output_type": "display_data"
    }
   ],
   "source": [
    "#Plotting correlation heatmap\n",
    "plt.figure(figsize=(16,6))\n",
    "heatmap = sns.heatmap(df.corr(), vmin=-1, vmax=1)\n",
    "heatmap.set_title('Correlation Heatmap', fontdict={'fontsize':12}, pad=12);"
   ]
  },
  {
   "cell_type": "markdown",
   "id": "a8e3c6a9",
   "metadata": {},
   "source": [
    "### V4, V8, V13, V15, V22, V23, V24, V25 and V26 are excluded for having no meaningful correlation"
   ]
  },
  {
   "cell_type": "code",
   "execution_count": 11,
   "id": "0718c4b2",
   "metadata": {},
   "outputs": [],
   "source": [
    "#Taking full model -- all independent varialbles\n",
    "X= df.loc[:, df.columns != 'Class']\n",
    "y= df['Class']\n",
    "  \n",
    "# using the train test split function\n",
    "X_train, X_test,y_train, y_test = train_test_split(X,y ,random_state=104, test_size=0.25, shuffle=True)"
   ]
  },
  {
   "cell_type": "code",
   "execution_count": 12,
   "id": "c1370534",
   "metadata": {},
   "outputs": [
    {
     "data": {
      "text/plain": [
       "LogisticRegression(random_state=0, solver='liblinear')"
      ]
     },
     "execution_count": 12,
     "metadata": {},
     "output_type": "execute_result"
    }
   ],
   "source": [
    "model1a = LogisticRegression(solver='liblinear', random_state=0)\n",
    "model1a.fit(X_train,y_train)"
   ]
  },
  {
   "cell_type": "code",
   "execution_count": 13,
   "id": "dc7895ba",
   "metadata": {},
   "outputs": [
    {
     "data": {
      "text/plain": [
       "0.9988202578579254"
      ]
     },
     "execution_count": 13,
     "metadata": {},
     "output_type": "execute_result"
    }
   ],
   "source": [
    "model1a.score(X_test,y_test)"
   ]
  },
  {
   "cell_type": "code",
   "execution_count": 14,
   "id": "9be9670a",
   "metadata": {},
   "outputs": [
    {
     "name": "stdout",
     "output_type": "stream",
     "text": [
      "[[71034    38]\n",
      " [   46    84]]\n"
     ]
    }
   ],
   "source": [
    "y_pred = model1a.predict(X_test)\n",
    "confusion_matrix = confusion_matrix(y_test, y_pred)\n",
    "print(confusion_matrix)"
   ]
  },
  {
   "cell_type": "code",
   "execution_count": 15,
   "id": "c7bb3680",
   "metadata": {},
   "outputs": [
    {
     "name": "stdout",
     "output_type": "stream",
     "text": [
      "              precision    recall  f1-score   support\n",
      "\n",
      "           0       1.00      1.00      1.00     71072\n",
      "           1       0.69      0.65      0.67       130\n",
      "\n",
      "    accuracy                           1.00     71202\n",
      "   macro avg       0.84      0.82      0.83     71202\n",
      "weighted avg       1.00      1.00      1.00     71202\n",
      "\n"
     ]
    }
   ],
   "source": [
    "print(classification_report(y_test, y_pred))"
   ]
  },
  {
   "cell_type": "code",
   "execution_count": 16,
   "id": "39827a21",
   "metadata": {},
   "outputs": [
    {
     "data": {
      "image/png": "[encoded data removed]",
      "text/plain": [
       "<Figure size 432x288 with 1 Axes>"
      ]
     },
     "metadata": {
      "needs_background": "light"
     },
     "output_type": "display_data"
    }
   ],
   "source": [
    "logit_roc_auc = roc_auc_score(y_test, model1a.predict(X_test))\n",
    "fpr, tpr, thresholds = roc_curve(y_test, model1a.predict_proba(X_test)[:,1])\n",
    "plt.figure()\n",
    "plt.plot(fpr, tpr, label='Logistic Regression (area = %0.2f)' % logit_roc_auc)\n",
    "plt.plot([0, 1], [0, 1],'r--')\n",
    "plt.xlabel('False Positive Rate')\n",
    "plt.ylabel('True Positive Rate')\n",
    "plt.title('Receiver operating characteristic')\n",
    "plt.legend(loc=\"lower right\")\n",
    "plt.savefig('Log_ROC')\n",
    "plt.show()"
   ]
  },
  {
   "cell_type": "code",
   "execution_count": 17,
   "id": "dbf21692",
   "metadata": {},
   "outputs": [],
   "source": [
    "#V4, V8, V13, V15, V22, V23, V24, V25 and V26 are excluded for having no meaningful correlation according to above correlation heatmap\n",
    "#Creating model by omitting above variables\n",
    "X2= df.loc[:, ~df.columns.isin(['V4','V8','V13','V15','V22','V23','V24','V25','V26'])]\n",
    "y2= df['Class']\n",
    "  \n",
    "# using the train test split function\n",
    "X2_train, X2_test,y2_train, y2_test = train_test_split(X2,y2 ,random_state=104, test_size=0.25, shuffle=True)"
   ]
  },
  {
   "cell_type": "code",
   "execution_count": 18,
   "id": "71b6cc61",
   "metadata": {},
   "outputs": [
    {
     "data": {
      "text/plain": [
       "LogisticRegression(random_state=0, solver='liblinear')"
      ]
     },
     "execution_count": 18,
     "metadata": {},
     "output_type": "execute_result"
    }
   ],
   "source": [
    "model1b = LogisticRegression(solver='liblinear', random_state=0)\n",
    "model1b.fit(X2_train,y2_train)"
   ]
  },
  {
   "cell_type": "code",
   "execution_count": 19,
   "id": "90410970",
   "metadata": {},
   "outputs": [
    {
     "data": {
      "text/plain": [
       "99.88"
      ]
     },
     "execution_count": 19,
     "metadata": {},
     "output_type": "execute_result"
    }
   ],
   "source": [
    "model1b.score(X2_test,y2_test)\n",
    "lr_accuracy = model1b.score(X2_test,y2_test)\n",
    "lr_accuracy = round(lr_accuracy.mean()*100,2)\n",
    "lr_accuracy"
   ]
  },
  {
   "cell_type": "code",
   "execution_count": 20,
   "id": "74f561f5",
   "metadata": {},
   "outputs": [
    {
     "name": "stdout",
     "output_type": "stream",
     "text": [
      "[[71033    39]\n",
      " [   45    85]]\n"
     ]
    }
   ],
   "source": [
    "from sklearn.metrics import confusion_matrix\n",
    "\n",
    "y2_pred = model1b.predict(X2_test)\n",
    "confusion_matrix = confusion_matrix(y2_test, y2_pred)\n",
    "print(confusion_matrix)"
   ]
  },
  {
   "cell_type": "code",
   "execution_count": 21,
   "id": "3b5c06f3",
   "metadata": {},
   "outputs": [
    {
     "name": "stdout",
     "output_type": "stream",
     "text": [
      "              precision    recall  f1-score   support\n",
      "\n",
      "           0       1.00      1.00      1.00     71072\n",
      "           1       0.69      0.65      0.67       130\n",
      "\n",
      "    accuracy                           1.00     71202\n",
      "   macro avg       0.84      0.83      0.83     71202\n",
      "weighted avg       1.00      1.00      1.00     71202\n",
      "\n"
     ]
    }
   ],
   "source": [
    "print(classification_report(y2_test, y2_pred))"
   ]
  },
  {
   "cell_type": "code",
   "execution_count": 22,
   "id": "74751a3f",
   "metadata": {},
   "outputs": [
    {
     "data": {
      "image/png": "[encoded data removed]",
      "text/plain": [
       "<Figure size 432x288 with 1 Axes>"
      ]
     },
     "metadata": {
      "needs_background": "light"
     },
     "output_type": "display_data"
    }
   ],
   "source": [
    "logit_roc_auc = roc_auc_score(y2_test, model1b.predict(X2_test))\n",
    "fpr, tpr, thresholds = roc_curve(y2_test, model1b.predict_proba(X2_test)[:,1])\n",
    "plt.figure()\n",
    "plt.plot(fpr, tpr, label='Logistic Regression (area = %0.2f)' % logit_roc_auc)\n",
    "plt.plot([0, 1], [0, 1],'r--')\n",
    "plt.xlabel('False Positive Rate')\n",
    "plt.ylabel('True Positive Rate')\n",
    "plt.title('Receiver operating characteristic')\n",
    "plt.legend(loc=\"lower right\")\n",
    "plt.savefig('Log_ROC')\n",
    "plt.show()"
   ]
  },
  {
   "cell_type": "markdown",
   "id": "5da84105",
   "metadata": {},
   "source": [
    "# Decision Tree Classifier"
   ]
  },
  {
   "cell_type": "code",
   "execution_count": 23,
   "id": "f7e2c972",
   "metadata": {},
   "outputs": [
    {
     "name": "stdout",
     "output_type": "stream",
     "text": [
      "Accuracy of the Decision Tree Classifier model is : 99.91\n"
     ]
    }
   ],
   "source": [
    "#Training the Decision Tree Classifier model\n",
    "model2 = DecisionTreeClassifier(max_depth=3)\n",
    "model2.fit(X_train,y_train)\n",
    "\n",
    "#Evaluating the model\n",
    "score = cross_val_score(model2,X_train,y_train,cv=5)\n",
    "dt_accuracy = round(score.mean()*100,2)\n",
    "print('Accuracy of the Decision Tree Classifier model is :', dt_accuracy)\n",
    "\n"
   ]
  },
  {
   "cell_type": "code",
   "execution_count": 24,
   "id": "74fccdb7",
   "metadata": {},
   "outputs": [
    {
     "name": "stdout",
     "output_type": "stream",
     "text": [
      "\n",
      "CLASSIFICATION REPORT:\n",
      "                      0           1  accuracy     macro avg  weighted avg\n",
      "precision      0.999494    0.752000  0.999059      0.875747      0.999042\n",
      "recall         0.999564    0.723077  0.999059      0.861320      0.999059\n",
      "f1-score       0.999529    0.737255  0.999059      0.868392      0.999050\n",
      "support    71072.000000  130.000000  0.999059  71202.000000  71202.000000\n",
      "\n",
      "Confusion Matrix: \n",
      " [[71041    31]\n",
      " [   36    94]]\n",
      "\n"
     ]
    }
   ],
   "source": [
    "from sklearn.metrics import confusion_matrix\n",
    "\n",
    "\n",
    "pred = model2.predict(X_test)\n",
    "model2_report = pd.DataFrame(classification_report(y_test, pred, output_dict=True))\n",
    "print()\n",
    "print(f\"CLASSIFICATION REPORT:\\n{model2_report}\")\n",
    "print()\n",
    "print(f\"Confusion Matrix: \\n {confusion_matrix(y_test, pred)}\\n\")"
   ]
  },
  {
   "cell_type": "markdown",
   "id": "3e9aedd4",
   "metadata": {},
   "source": [
    "# Random Forest Classifier"
   ]
  },
  {
   "cell_type": "code",
   "execution_count": 25,
   "id": "699a03bc",
   "metadata": {},
   "outputs": [
    {
     "name": "stdout",
     "output_type": "stream",
     "text": [
      "Accuracy of the Random Forest Classifier model is : 99.96\n"
     ]
    }
   ],
   "source": [
    "#Training the Random Forest Classifier model\n",
    "\n",
    "model3 = RandomForestClassifier(n_estimators=100, criterion='entropy', random_state=0)\n",
    "model3.fit(X_train, y_train)\n",
    "\n",
    "#Evaluating the model\n",
    "scorerf = cross_val_score(model3,X_train,y_train,cv=5)\n",
    "rf_accuracy = round(scorerf.mean()*100,2)\n",
    "print('Accuracy of the Random Forest Classifier model is :',rf_accuracy)\n",
    "\n"
   ]
  },
  {
   "cell_type": "code",
   "execution_count": 26,
   "id": "a216c62a",
   "metadata": {},
   "outputs": [
    {
     "name": "stdout",
     "output_type": "stream",
     "text": [
      "\n",
      "CLASSIFICATION REPORT:\n",
      "                      0           1  accuracy     macro avg  weighted avg\n",
      "precision      0.999508    0.950000  0.999438      0.974754      0.999417\n",
      "recall         0.999930    0.730769  0.999438      0.865349      0.999438\n",
      "f1-score       0.999719    0.826087  0.999438      0.912903      0.999402\n",
      "support    71072.000000  130.000000  0.999438  71202.000000  71202.000000\n",
      "\n",
      "Confusion Matrix: \n",
      " [[71067     5]\n",
      " [   35    95]]\n",
      "\n"
     ]
    }
   ],
   "source": [
    "from sklearn.metrics import confusion_matrix\n",
    "\n",
    "pred = model3.predict(X_test)\n",
    "model3_report = pd.DataFrame(classification_report(y_test, pred, output_dict=True))\n",
    "print()\n",
    "print(f\"CLASSIFICATION REPORT:\\n{model3_report}\")\n",
    "print()\n",
    "print(f\"Confusion Matrix: \\n {confusion_matrix(y_test, pred)}\\n\")"
   ]
  },
  {
   "cell_type": "markdown",
   "id": "373403eb",
   "metadata": {},
   "source": [
    "# Artificial Neural Network"
   ]
  },
  {
   "cell_type": "code",
   "execution_count": 39,
   "id": "002db734",
   "metadata": {},
   "outputs": [
    {
     "name": "stdout",
     "output_type": "stream",
     "text": [
      "<class 'pandas.core.frame.DataFrame'>\n",
      "RangeIndex: 284807 entries, 0 to 284806\n",
      "Data columns (total 32 columns):\n",
      " #   Column      Non-Null Count   Dtype  \n",
      "---  ------      --------------   -----  \n",
      " 0   Unnamed: 0  284807 non-null  int64  \n",
      " 1   Time        284807 non-null  float64\n",
      " 2   V1          284807 non-null  float64\n",
      " 3   V2          284807 non-null  float64\n",
      " 4   V3          284807 non-null  float64\n",
      " 5   V4          284807 non-null  float64\n",
      " 6   V5          284807 non-null  float64\n",
      " 7   V6          284807 non-null  float64\n",
      " 8   V7          284807 non-null  float64\n",
      " 9   V8          284807 non-null  float64\n",
      " 10  V9          284807 non-null  float64\n",
      " 11  V10         284807 non-null  float64\n",
      " 12  V11         284807 non-null  float64\n",
      " 13  V12         284807 non-null  float64\n",
      " 14  V13         284807 non-null  float64\n",
      " 15  V14         284807 non-null  float64\n",
      " 16  V15         284807 non-null  float64\n",
      " 17  V16         284807 non-null  float64\n",
      " 18  V17         284807 non-null  float64\n",
      " 19  V18         284807 non-null  float64\n",
      " 20  V19         284807 non-null  float64\n",
      " 21  V20         284807 non-null  float64\n",
      " 22  V21         284807 non-null  float64\n",
      " 23  V22         284807 non-null  float64\n",
      " 24  V23         284807 non-null  float64\n",
      " 25  V24         284807 non-null  float64\n",
      " 26  V25         284807 non-null  float64\n",
      " 27  V26         284807 non-null  float64\n",
      " 28  V27         284807 non-null  float64\n",
      " 29  V28         284807 non-null  float64\n",
      " 30  Amount      284807 non-null  float64\n",
      " 31  Class       284807 non-null  int64  \n",
      "dtypes: float64(30), int64(2)\n",
      "memory usage: 69.5 MB\n",
      "Epoch 1/150\n"
     ]
    },
    {
     "name": "stderr",
     "output_type": "stream",
     "text": [
      "C:\\Users\\visha\\AppData\\Local\\Temp\\ipykernel_15280\\3559822264.py:18: FutureWarning: The frame.append method is deprecated and will be removed from pandas in a future version. Use pandas.concat instead.\n",
      "  bal_data = real_data.append(fraud_data)\n"
     ]
    },
    {
     "name": "stdout",
     "output_type": "stream",
     "text": [
      "25/25 [==============================] - 1s 1ms/step - loss: 2040.1882 - accuracy: 0.5006\n",
      "Epoch 2/150\n",
      "25/25 [==============================] - 0s 961us/step - loss: 337.2814 - accuracy: 0.5044\n",
      "Epoch 3/150\n",
      "25/25 [==============================] - 0s 959us/step - loss: 152.7932 - accuracy: 0.5502\n",
      "Epoch 4/150\n",
      "25/25 [==============================] - 0s 875us/step - loss: 65.4214 - accuracy: 0.5311\n",
      "Epoch 5/150\n",
      "25/25 [==============================] - 0s 917us/step - loss: 72.8295 - accuracy: 0.5527\n",
      "Epoch 6/150\n",
      "25/25 [==============================] - 0s 940us/step - loss: 53.4316 - accuracy: 0.5337\n",
      "Epoch 7/150\n",
      "25/25 [==============================] - 0s 875us/step - loss: 52.3144 - accuracy: 0.5388\n",
      "Epoch 8/150\n",
      "25/25 [==============================] - 0s 917us/step - loss: 52.9395 - accuracy: 0.5527\n",
      "Epoch 9/150\n",
      "25/25 [==============================] - 0s 960us/step - loss: 32.1925 - accuracy: 0.5654\n",
      "Epoch 10/150\n",
      "25/25 [==============================] - 0s 858us/step - loss: 22.3843 - accuracy: 0.5591\n",
      "Epoch 11/150\n",
      "25/25 [==============================] - 0s 1ms/step - loss: 43.6921 - accuracy: 0.5553\n",
      "Epoch 12/150\n",
      "25/25 [==============================] - 0s 966us/step - loss: 28.2071 - accuracy: 0.5591\n",
      "Epoch 13/150\n",
      "25/25 [==============================] - 0s 876us/step - loss: 34.8650 - accuracy: 0.5464\n",
      "Epoch 14/150\n",
      "25/25 [==============================] - 0s 891us/step - loss: 20.9086 - accuracy: 0.6061\n",
      "Epoch 15/150\n",
      "25/25 [==============================] - 0s 833us/step - loss: 20.1798 - accuracy: 0.5947\n",
      "Epoch 16/150\n",
      "25/25 [==============================] - 0s 978us/step - loss: 25.4237 - accuracy: 0.5718\n",
      "Epoch 17/150\n",
      "25/25 [==============================] - 0s 917us/step - loss: 20.9217 - accuracy: 0.5718\n",
      "Epoch 18/150\n",
      "25/25 [==============================] - 0s 846us/step - loss: 25.2218 - accuracy: 0.5820\n",
      "Epoch 19/150\n",
      "25/25 [==============================] - 0s 1ms/step - loss: 35.5148 - accuracy: 0.5731\n",
      "Epoch 20/150\n",
      "25/25 [==============================] - 0s 1ms/step - loss: 35.7988 - accuracy: 0.5972\n",
      "Epoch 21/150\n",
      "25/25 [==============================] - 0s 856us/step - loss: 14.9467 - accuracy: 0.6315\n",
      "Epoch 22/150\n",
      "25/25 [==============================] - 0s 940us/step - loss: 13.0713 - accuracy: 0.6455\n",
      "Epoch 23/150\n",
      "25/25 [==============================] - 0s 917us/step - loss: 19.1330 - accuracy: 0.6150\n",
      "Epoch 24/150\n",
      "25/25 [==============================] - 0s 875us/step - loss: 47.8111 - accuracy: 0.5820\n",
      "Epoch 25/150\n",
      "25/25 [==============================] - 0s 917us/step - loss: 57.0382 - accuracy: 0.5553\n",
      "Epoch 26/150\n",
      "25/25 [==============================] - 0s 880us/step - loss: 138.9825 - accuracy: 0.5235\n",
      "Epoch 27/150\n",
      "25/25 [==============================] - 0s 792us/step - loss: 58.8442 - accuracy: 0.5629\n",
      "Epoch 28/150\n",
      "25/25 [==============================] - 0s 958us/step - loss: 52.8432 - accuracy: 0.6048\n",
      "Epoch 29/150\n",
      "25/25 [==============================] - 0s 917us/step - loss: 20.4516 - accuracy: 0.6468\n",
      "Epoch 30/150\n",
      "25/25 [==============================] - 0s 939us/step - loss: 10.8287 - accuracy: 0.6734\n",
      "Epoch 31/150\n",
      "25/25 [==============================] - 0s 959us/step - loss: 11.1213 - accuracy: 0.6900\n",
      "Epoch 32/150\n",
      "25/25 [==============================] - 0s 919us/step - loss: 24.3940 - accuracy: 0.6201\n",
      "Epoch 33/150\n",
      "25/25 [==============================] - 0s 958us/step - loss: 50.4027 - accuracy: 0.5718\n",
      "Epoch 34/150\n",
      "25/25 [==============================] - 0s 911us/step - loss: 11.8475 - accuracy: 0.6696\n",
      "Epoch 35/150\n",
      "25/25 [==============================] - 0s 849us/step - loss: 28.4769 - accuracy: 0.5896\n",
      "Epoch 36/150\n",
      "25/25 [==============================] - 0s 888us/step - loss: 33.0937 - accuracy: 0.5921\n",
      "Epoch 37/150\n",
      "25/25 [==============================] - 0s 915us/step - loss: 14.9500 - accuracy: 0.6671\n",
      "Epoch 38/150\n",
      "25/25 [==============================] - 0s 939us/step - loss: 10.5335 - accuracy: 0.6912\n",
      "Epoch 39/150\n",
      "25/25 [==============================] - 0s 917us/step - loss: 22.8935 - accuracy: 0.6569\n",
      "Epoch 40/150\n",
      "25/25 [==============================] - 0s 874us/step - loss: 35.0349 - accuracy: 0.6366\n",
      "Epoch 41/150\n",
      "25/25 [==============================] - 0s 875us/step - loss: 40.9108 - accuracy: 0.6391\n",
      "Epoch 42/150\n",
      "25/25 [==============================] - 0s 855us/step - loss: 46.0270 - accuracy: 0.6099\n",
      "Epoch 43/150\n",
      "25/25 [==============================] - 0s 959us/step - loss: 17.6863 - accuracy: 0.6595\n",
      "Epoch 44/150\n",
      "25/25 [==============================] - 0s 874us/step - loss: 25.5482 - accuracy: 0.6468\n",
      "Epoch 45/150\n",
      "25/25 [==============================] - 0s 1ms/step - loss: 27.0592 - accuracy: 0.6658\n",
      "Epoch 46/150\n",
      "25/25 [==============================] - 0s 958us/step - loss: 16.4352 - accuracy: 0.6823\n",
      "Epoch 47/150\n",
      "25/25 [==============================] - 0s 875us/step - loss: 25.1497 - accuracy: 0.6518\n",
      "Epoch 48/150\n",
      "25/25 [==============================] - 0s 846us/step - loss: 37.4018 - accuracy: 0.6175\n",
      "Epoch 49/150\n",
      "25/25 [==============================] - 0s 981us/step - loss: 74.5110 - accuracy: 0.5731\n",
      "Epoch 50/150\n",
      "25/25 [==============================] - 0s 833us/step - loss: 45.1590 - accuracy: 0.5959\n",
      "Epoch 51/150\n",
      "25/25 [==============================] - 0s 833us/step - loss: 12.5349 - accuracy: 0.7192\n",
      "Epoch 52/150\n",
      "25/25 [==============================] - 0s 875us/step - loss: 22.6568 - accuracy: 0.6823\n",
      "Epoch 53/150\n",
      "25/25 [==============================] - 0s 850us/step - loss: 21.6483 - accuracy: 0.6874\n",
      "Epoch 54/150\n",
      "25/25 [==============================] - 0s 792us/step - loss: 8.2009 - accuracy: 0.7205\n",
      "Epoch 55/150\n",
      "25/25 [==============================] - 0s 875us/step - loss: 12.1055 - accuracy: 0.7179\n",
      "Epoch 56/150\n",
      "25/25 [==============================] - 0s 833us/step - loss: 15.9930 - accuracy: 0.6836\n",
      "Epoch 57/150\n",
      "25/25 [==============================] - 0s 918us/step - loss: 15.3638 - accuracy: 0.6633\n",
      "Epoch 58/150\n",
      "25/25 [==============================] - 0s 875us/step - loss: 14.6411 - accuracy: 0.7281\n",
      "Epoch 59/150\n",
      "25/25 [==============================] - 0s 959us/step - loss: 29.2756 - accuracy: 0.6455\n",
      "Epoch 60/150\n",
      "25/25 [==============================] - 0s 833us/step - loss: 44.4710 - accuracy: 0.6480\n",
      "Epoch 61/150\n",
      "25/25 [==============================] - 0s 917us/step - loss: 28.0186 - accuracy: 0.6468\n",
      "Epoch 62/150\n",
      "25/25 [==============================] - 0s 834us/step - loss: 19.3999 - accuracy: 0.6912\n",
      "Epoch 63/150\n",
      "25/25 [==============================] - 0s 875us/step - loss: 18.8138 - accuracy: 0.6938\n",
      "Epoch 64/150\n",
      "25/25 [==============================] - 0s 875us/step - loss: 12.7978 - accuracy: 0.7243\n",
      "Epoch 65/150\n",
      "25/25 [==============================] - 0s 834us/step - loss: 23.9664 - accuracy: 0.6645\n",
      "Epoch 66/150\n",
      "25/25 [==============================] - 0s 885us/step - loss: 40.8495 - accuracy: 0.6468\n",
      "Epoch 67/150\n",
      "25/25 [==============================] - 0s 833us/step - loss: 34.8585 - accuracy: 0.6404\n",
      "Epoch 68/150\n",
      "25/25 [==============================] - 0s 792us/step - loss: 16.8206 - accuracy: 0.6874\n",
      "Epoch 69/150\n",
      "25/25 [==============================] - 0s 792us/step - loss: 14.0642 - accuracy: 0.7027\n",
      "Epoch 70/150\n",
      "25/25 [==============================] - 0s 854us/step - loss: 19.4013 - accuracy: 0.6760\n",
      "Epoch 71/150\n",
      "25/25 [==============================] - 0s 792us/step - loss: 38.0649 - accuracy: 0.6595\n",
      "Epoch 72/150\n",
      "25/25 [==============================] - 0s 875us/step - loss: 7.5186 - accuracy: 0.7916\n",
      "Epoch 73/150\n",
      "25/25 [==============================] - 0s 875us/step - loss: 17.7533 - accuracy: 0.7179\n",
      "Epoch 74/150\n",
      "25/25 [==============================] - 0s 897us/step - loss: 53.2812 - accuracy: 0.6036\n",
      "Epoch 75/150\n",
      "25/25 [==============================] - 0s 958us/step - loss: 27.4167 - accuracy: 0.6531\n",
      "Epoch 76/150\n",
      "25/25 [==============================] - 0s 834us/step - loss: 26.0582 - accuracy: 0.6773\n",
      "Epoch 77/150\n",
      "25/25 [==============================] - 0s 917us/step - loss: 31.8726 - accuracy: 0.6341\n",
      "Epoch 78/150\n",
      "25/25 [==============================] - 0s 855us/step - loss: 11.6378 - accuracy: 0.7382\n",
      "Epoch 79/150\n",
      "25/25 [==============================] - 0s 917us/step - loss: 8.1882 - accuracy: 0.7637\n",
      "Epoch 80/150\n"
     ]
    },
    {
     "name": "stdout",
     "output_type": "stream",
     "text": [
      "25/25 [==============================] - 0s 875us/step - loss: 9.3214 - accuracy: 0.7395\n",
      "Epoch 81/150\n",
      "25/25 [==============================] - 0s 917us/step - loss: 18.3980 - accuracy: 0.7065\n",
      "Epoch 82/150\n",
      "25/25 [==============================] - 0s 834us/step - loss: 34.4450 - accuracy: 0.6620\n",
      "Epoch 83/150\n",
      "25/25 [==============================] - 0s 917us/step - loss: 25.4635 - accuracy: 0.6938\n",
      "Epoch 84/150\n",
      "25/25 [==============================] - 0s 875us/step - loss: 22.0820 - accuracy: 0.7001\n",
      "Epoch 85/150\n",
      "25/25 [==============================] - 0s 833us/step - loss: 6.1803 - accuracy: 0.7611\n",
      "Epoch 86/150\n",
      "25/25 [==============================] - 0s 875us/step - loss: 10.3312 - accuracy: 0.7497\n",
      "Epoch 87/150\n",
      "25/25 [==============================] - 0s 883us/step - loss: 15.0018 - accuracy: 0.7306\n",
      "Epoch 88/150\n",
      "25/25 [==============================] - 0s 959us/step - loss: 10.7204 - accuracy: 0.7433\n",
      "Epoch 89/150\n",
      "25/25 [==============================] - 0s 834us/step - loss: 15.9075 - accuracy: 0.7052\n",
      "Epoch 90/150\n",
      "25/25 [==============================] - 0s 959us/step - loss: 14.6623 - accuracy: 0.7573\n",
      "Epoch 91/150\n",
      "25/25 [==============================] - 0s 813us/step - loss: 10.5695 - accuracy: 0.7433\n",
      "Epoch 92/150\n",
      "25/25 [==============================] - 0s 834us/step - loss: 35.9421 - accuracy: 0.6468\n",
      "Epoch 93/150\n",
      "25/25 [==============================] - 0s 792us/step - loss: 36.2799 - accuracy: 0.6518\n",
      "Epoch 94/150\n",
      "25/25 [==============================] - 0s 834us/step - loss: 42.5128 - accuracy: 0.6531\n",
      "Epoch 95/150\n",
      "25/25 [==============================] - 0s 855us/step - loss: 8.5570 - accuracy: 0.7713\n",
      "Epoch 96/150\n",
      "25/25 [==============================] - 0s 917us/step - loss: 10.6338 - accuracy: 0.7484\n",
      "Epoch 97/150\n",
      "25/25 [==============================] - 0s 875us/step - loss: 41.6594 - accuracy: 0.6417\n",
      "Epoch 98/150\n",
      "25/25 [==============================] - 0s 875us/step - loss: 13.9056 - accuracy: 0.7408\n",
      "Epoch 99/150\n",
      "25/25 [==============================] - 0s 898us/step - loss: 32.7849 - accuracy: 0.6658\n",
      "Epoch 100/150\n",
      "25/25 [==============================] - 0s 834us/step - loss: 17.4196 - accuracy: 0.7319\n",
      "Epoch 101/150\n",
      "25/25 [==============================] - 0s 917us/step - loss: 20.1815 - accuracy: 0.6785\n",
      "Epoch 102/150\n",
      "25/25 [==============================] - 0s 933us/step - loss: 14.1022 - accuracy: 0.7395\n",
      "Epoch 103/150\n",
      "25/25 [==============================] - 0s 792us/step - loss: 13.7588 - accuracy: 0.7344\n",
      "Epoch 104/150\n",
      "25/25 [==============================] - 0s 792us/step - loss: 8.4627 - accuracy: 0.7726\n",
      "Epoch 105/150\n",
      "25/25 [==============================] - 0s 792us/step - loss: 13.6248 - accuracy: 0.7344\n",
      "Epoch 106/150\n",
      "25/25 [==============================] - 0s 875us/step - loss: 27.3886 - accuracy: 0.7128\n",
      "Epoch 107/150\n",
      "25/25 [==============================] - 0s 834us/step - loss: 17.6288 - accuracy: 0.7281\n",
      "Epoch 108/150\n",
      "25/25 [==============================] - 0s 965us/step - loss: 46.2947 - accuracy: 0.6315\n",
      "Epoch 109/150\n",
      "25/25 [==============================] - 0s 833us/step - loss: 25.8709 - accuracy: 0.6938\n",
      "Epoch 110/150\n",
      "25/25 [==============================] - 0s 792us/step - loss: 12.9850 - accuracy: 0.7522\n",
      "Epoch 111/150\n",
      "25/25 [==============================] - 0s 917us/step - loss: 15.1022 - accuracy: 0.7510\n",
      "Epoch 112/150\n",
      "25/25 [==============================] - 0s 837us/step - loss: 10.9685 - accuracy: 0.7814\n",
      "Epoch 113/150\n",
      "25/25 [==============================] - 0s 917us/step - loss: 9.9739 - accuracy: 0.7764\n",
      "Epoch 114/150\n",
      "25/25 [==============================] - 0s 917us/step - loss: 26.3595 - accuracy: 0.7027\n",
      "Epoch 115/150\n",
      "25/25 [==============================] - 0s 792us/step - loss: 28.5518 - accuracy: 0.6671\n",
      "Epoch 116/150\n",
      "25/25 [==============================] - 0s 855us/step - loss: 14.0375 - accuracy: 0.7408\n",
      "Epoch 117/150\n",
      "25/25 [==============================] - 0s 833us/step - loss: 35.8973 - accuracy: 0.7078\n",
      "Epoch 118/150\n",
      "25/25 [==============================] - 0s 910us/step - loss: 26.1663 - accuracy: 0.7433\n",
      "Epoch 119/150\n",
      "25/25 [==============================] - 0s 862us/step - loss: 9.3405 - accuracy: 0.7853\n",
      "Epoch 120/150\n",
      "25/25 [==============================] - 0s 1ms/step - loss: 8.7518 - accuracy: 0.7598\n",
      "Epoch 121/150\n",
      "25/25 [==============================] - 0s 875us/step - loss: 23.5806 - accuracy: 0.6760\n",
      "Epoch 122/150\n",
      "25/25 [==============================] - 0s 833us/step - loss: 47.4799 - accuracy: 0.6252\n",
      "Epoch 123/150\n",
      "25/25 [==============================] - 0s 792us/step - loss: 33.9251 - accuracy: 0.7154\n",
      "Epoch 124/150\n",
      "25/25 [==============================] - 0s 792us/step - loss: 9.0899 - accuracy: 0.7942\n",
      "Epoch 125/150\n",
      "25/25 [==============================] - 0s 815us/step - loss: 8.8241 - accuracy: 0.7992\n",
      "Epoch 126/150\n",
      "25/25 [==============================] - 0s 834us/step - loss: 45.0473 - accuracy: 0.6633\n",
      "Epoch 127/150\n",
      "25/25 [==============================] - 0s 834us/step - loss: 11.8878 - accuracy: 0.7611\n",
      "Epoch 128/150\n",
      "25/25 [==============================] - 0s 834us/step - loss: 6.9021 - accuracy: 0.8043\n",
      "Epoch 129/150\n",
      "25/25 [==============================] - 0s 856us/step - loss: 22.7977 - accuracy: 0.7255\n",
      "Epoch 130/150\n",
      "25/25 [==============================] - 0s 818us/step - loss: 22.1403 - accuracy: 0.7281\n",
      "Epoch 131/150\n",
      "25/25 [==============================] - 0s 875us/step - loss: 4.4486 - accuracy: 0.8577\n",
      "Epoch 132/150\n",
      "25/25 [==============================] - 0s 875us/step - loss: 14.2084 - accuracy: 0.7433\n",
      "Epoch 133/150\n",
      "25/25 [==============================] - 0s 836us/step - loss: 12.1799 - accuracy: 0.7624\n",
      "Epoch 134/150\n",
      "25/25 [==============================] - 0s 834us/step - loss: 13.2026 - accuracy: 0.7382\n",
      "Epoch 135/150\n",
      "25/25 [==============================] - 0s 876us/step - loss: 19.0040 - accuracy: 0.7179\n",
      "Epoch 136/150\n",
      "25/25 [==============================] - 0s 792us/step - loss: 8.5781 - accuracy: 0.7865\n",
      "Epoch 137/150\n",
      "25/25 [==============================] - 0s 792us/step - loss: 16.0355 - accuracy: 0.7535\n",
      "Epoch 138/150\n",
      "25/25 [==============================] - 0s 772us/step - loss: 20.2506 - accuracy: 0.7103\n",
      "Epoch 139/150\n",
      "25/25 [==============================] - 0s 792us/step - loss: 18.7812 - accuracy: 0.7319\n",
      "Epoch 140/150\n",
      "25/25 [==============================] - 0s 834us/step - loss: 5.0483 - accuracy: 0.8056\n",
      "Epoch 141/150\n",
      "25/25 [==============================] - 0s 834us/step - loss: 31.7037 - accuracy: 0.6684\n",
      "Epoch 142/150\n",
      "25/25 [==============================] - 0s 857us/step - loss: 11.4611 - accuracy: 0.7738\n",
      "Epoch 143/150\n",
      "25/25 [==============================] - 0s 792us/step - loss: 52.2062 - accuracy: 0.6442\n",
      "Epoch 144/150\n",
      "25/25 [==============================] - 0s 833us/step - loss: 60.6260 - accuracy: 0.6061\n",
      "Epoch 145/150\n",
      "25/25 [==============================] - 0s 875us/step - loss: 27.3877 - accuracy: 0.7230\n",
      "Epoch 146/150\n",
      "25/25 [==============================] - 0s 834us/step - loss: 8.9773 - accuracy: 0.7916\n",
      "Epoch 147/150\n",
      "25/25 [==============================] - 0s 772us/step - loss: 6.3812 - accuracy: 0.8361\n",
      "Epoch 148/150\n",
      "25/25 [==============================] - 0s 792us/step - loss: 9.1340 - accuracy: 0.7853\n",
      "Epoch 149/150\n",
      "25/25 [==============================] - 0s 833us/step - loss: 3.2204 - accuracy: 0.8704\n",
      "Epoch 150/150\n",
      "25/25 [==============================] - 0s 959us/step - loss: 14.1700 - accuracy: 0.7459\n",
      "7/7 [==============================] - 0s 2ms/step - loss: 10.1275 - accuracy: 0.7970\n"
     ]
    }
   ],
   "source": [
    "# from keras import Sequential\n",
    "# from keras.layers import Dense, Dropout\n",
    "# import pandas as pd\n",
    "# from sklearn.model_selection import train_test_split\n",
    "\n",
    "main_data = pd.read_csv('https://query.data.world/s/pmwy5jqyutp5kv5ovzdoclfgvm6n2o') #provide path\n",
    "\n",
    "main_data.info()\n",
    "main_data['Class'].value_counts()\n",
    "# main_data.head()\n",
    "\n",
    "\n",
    "#Due to unbalanced data is highly vulnerable to overfitting we need to balance it\n",
    "#We are using undersampling method to balance the data\n",
    "fraud_data = main_data[main_data['Class']==1]\n",
    "real_data = main_data[main_data['Class']==0].sample(fraud_data.shape[0])\n",
    "\n",
    "bal_data = real_data.append(fraud_data)\n",
    "\n",
    "\n",
    "#Spliting the main data in training and test data\n",
    "input_cols = bal_data.drop(columns=['Class'], axis=1)\n",
    "target_col = bal_data['Class']\n",
    "\n",
    "input_cols_train, input_cols_test, target_col_train, target_col_test =  train_test_split(input_cols, target_col, test_size=0.20, random_state=2, stratify=target_col)\n",
    "\n",
    "\n",
    "#Model Creation\n",
    "model = Sequential()\n",
    "model.add(Dense(16, input_dim=31, activation='relu'))\n",
    "model.add(Dense(16, activation='relu'))\n",
    "model.add(Dense(1, activation='sigmoid'))\n",
    "\n",
    "model.compile(optimizer=\"Adam\", loss=\"binary_crossentropy\", metrics=[\"accuracy\"])\n",
    "\n",
    "#Model Fitting\n",
    "model.fit(input_cols_train, target_col_train, epochs=150)\n",
    "\n",
    "#Model Evaluation\n",
    "acc = model.evaluate(input_cols_test, target_col_test)\n"
   ]
  },
  {
   "cell_type": "code",
   "execution_count": 43,
   "id": "c0d261b1",
   "metadata": {},
   "outputs": [
    {
     "data": {
      "text/plain": [
       "79.7"
      ]
     },
     "execution_count": 43,
     "metadata": {},
     "output_type": "execute_result"
    }
   ],
   "source": [
    "ann_accuracy = round(acc[-1]*100,2)\n",
    "ann_accuracy"
   ]
  },
  {
   "cell_type": "markdown",
   "id": "ac49f52f",
   "metadata": {},
   "source": [
    "# Gradient Boosting Classifier"
   ]
  },
  {
   "cell_type": "code",
   "execution_count": 45,
   "id": "5068e3d1",
   "metadata": {},
   "outputs": [
    {
     "name": "stdout",
     "output_type": "stream",
     "text": [
      "Accuracy of the Gradient Boosting Classifier model is : 99.88\n"
     ]
    }
   ],
   "source": [
    "#Training the Gradient Boosting model\n",
    "model5 = GradientBoostingClassifier()\n",
    "model5.fit(X_train,y_train)\n",
    "\n",
    "#Evaluating the model\n",
    "score = cross_val_score(model5,X_train,y_train,cv=5)\n",
    "gb_accuracy = round(score.mean()*100,2)\n",
    "print('Accuracy of the Gradient Boosting Classifier model is :',gb_accuracy)\n",
    "\n"
   ]
  },
  {
   "cell_type": "code",
   "execution_count": 46,
   "id": "35a49c98",
   "metadata": {},
   "outputs": [
    {
     "name": "stdout",
     "output_type": "stream",
     "text": [
      "\n",
      "CLASSIFICATION REPORT:\n",
      "                      0           1  accuracy     macro avg  weighted avg\n",
      "precision      0.998356    0.333333  0.997992      0.665845      0.997142\n",
      "recall         0.999634    0.100000  0.997992      0.549817      0.997992\n",
      "f1-score       0.998995    0.153846  0.997992      0.576420      0.997452\n",
      "support    71072.000000  130.000000  0.997992  71202.000000  71202.000000\n",
      "\n",
      "Confusion Matrix: \n",
      " [[71046    26]\n",
      " [  117    13]]\n",
      "\n"
     ]
    }
   ],
   "source": [
    "from sklearn.metrics import confusion_matrix\n",
    "\n",
    "pred = model5.predict(X_test)\n",
    "model5_report = pd.DataFrame(classification_report(y_test, pred, output_dict=True))\n",
    "print()\n",
    "print(f\"CLASSIFICATION REPORT:\\n{model5_report}\")\n",
    "print()\n",
    "print(f\"Confusion Matrix: \\n {confusion_matrix(y_test, pred)}\\n\")"
   ]
  },
  {
   "cell_type": "markdown",
   "id": "48009739",
   "metadata": {},
   "source": [
    "# Comparison of the Algorithms"
   ]
  },
  {
   "cell_type": "code",
   "execution_count": 47,
   "id": "3620643a",
   "metadata": {},
   "outputs": [
    {
     "name": "stderr",
     "output_type": "stream",
     "text": [
      "C:\\Users\\visha\\AppData\\Local\\Temp\\ipykernel_15280\\1934608860.py:25: MatplotlibDeprecationWarning: The 'b' parameter of grid() has been renamed 'visible' since Matplotlib 3.5; support for the old name will be dropped two minor releases later.\n",
      "  ax.grid(b = True, color ='grey',linestyle ='-.', linewidth = 0.5,alpha = 0.2)\n"
     ]
    },
    {
     "data": {
      "image/png": "[encoded data removed]",
      "text/plain": [
       "<Figure size 1152x648 with 1 Axes>"
      ]
     },
     "metadata": {
      "needs_background": "light"
     },
     "output_type": "display_data"
    }
   ],
   "source": [
    "labels = ['Logistic Regression','Decision Tree', 'Random Forest', 'ANN', 'Gradient Boosting']\n",
    "\n",
    "#Creating a list of accuracies for each algorithm\n",
    "accuracies = [lr_accuracy, dt_accuracy, rf_accuracy, ann_accuracy, gb_accuracy]\n",
    "\n",
    "#Creating the chart\n",
    "\n",
    "\n",
    "fig, ax = plt.subplots(figsize =(16, 9))\n",
    "ax.barh(labels, accuracies)\n",
    " \n",
    "# Remove axes splines\n",
    "for s in ['top', 'bottom', 'left', 'right']:\n",
    "    ax.spines[s].set_visible(False)\n",
    " \n",
    "# Remove x, y Ticks\n",
    "ax.xaxis.set_ticks_position('none')\n",
    "ax.yaxis.set_ticks_position('none')\n",
    " \n",
    "# Add padding between axes and labels\n",
    "ax.xaxis.set_tick_params(pad = 5)\n",
    "ax.yaxis.set_tick_params(pad = 10)\n",
    " \n",
    "# Add x, y gridlines\n",
    "ax.grid(b = True, color ='grey',linestyle ='-.', linewidth = 0.5,alpha = 0.2)\n",
    " \n",
    "# Show top values\n",
    "ax.invert_yaxis()\n",
    " \n",
    "# Add annotation to bars\n",
    "for i in ax.patches:\n",
    "    plt.text(i.get_width()+0.2, i.get_y()+0.5, str(round((i.get_width()), 2)), fontsize = 10, fontweight ='bold', color ='grey')\n",
    " \n",
    "# Add Plot Title\n",
    "ax.set_title('Accuracy comparison of Algorithms', loc ='left', )\n",
    " \n",
    "# Show Plot\n",
    "plt.show()"
   ]
  },
  {
   "cell_type": "code",
   "execution_count": null,
   "id": "e30b7eb4",
   "metadata": {},
   "outputs": [],
   "source": []
  }
 ],
 "metadata": {
  "kernelspec": {
   "display_name": "Python 3 (ipykernel)",
   "language": "python",
   "name": "python3"
  },
  "language_info": {
   "codemirror_mode": {
    "name": "ipython",
    "version": 3
   },
   "file_extension": ".py",
   "mimetype": "text/x-python",
   "name": "python",
   "nbconvert_exporter": "python",
   "pygments_lexer": "ipython3",
   "version": "3.9.12"
  },
  "varInspector": {
   "cols": {
    "lenName": 16,
    "lenType": 16,
    "lenVar": 40
   },
   "kernels_config": {
    "python": {
     "delete_cmd_postfix": "",
     "delete_cmd_prefix": "del ",
     "library": "var_list.py",
     "varRefreshCmd": "print(var_dic_list())"
    },
    "r": {
     "delete_cmd_postfix": ") ",
     "delete_cmd_prefix": "rm(",
     "library": "var_list.r",
     "varRefreshCmd": "cat(var_dic_list()) "
    }
   },
   "types_to_exclude": [
    "module",
    "function",
    "builtin_function_or_method",
    "instance",
    "_Feature"
   ],
   "window_display": false
  },
  "vscode": {
   "interpreter": {
    "hash": "767d51c1340bd893661ea55ea3124f6de3c7a262a8b4abca0554b478b1e2ff90"
   }
  }
 },
 "nbformat": 4,
 "nbformat_minor": 5
}
